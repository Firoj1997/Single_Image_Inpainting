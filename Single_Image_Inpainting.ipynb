{
 "cells": [
  {
   "cell_type": "code",
   "execution_count": 1,
   "metadata": {},
   "outputs": [],
   "source": [
    "#Necessary imports\n",
    "import numpy as np\n",
    "import matplotlib.pyplot as plt\n",
    "%matplotlib inline\n",
    "import cv2\n",
    "import tensorflow as tf"
   ]
  },
  {
   "cell_type": "markdown",
   "metadata": {},
   "source": [
    "<h2>Creating Mask :-"
   ]
  },
  {
   "cell_type": "code",
   "execution_count": 2,
   "metadata": {},
   "outputs": [
    {
     "name": "stdout",
     "output_type": "stream",
     "text": [
      "Keys: \n",
      "r - reset the inpaint mask\n",
      "ESC - exit\n"
     ]
    }
   ],
   "source": [
    "#The below lines of code is used to create a scratched image from a normal image by using Sketcher class. Finally, the scratched\n",
    "#image and the respective mask will be stored.\n",
    "\n",
    "class Sketcher:\n",
    "    def __init__(self, windowname, dests, colors_func):\n",
    "        self.prev_pt = None\n",
    "        self.windowname = windowname\n",
    "        self.dests = dests\n",
    "        self.colors_func = colors_func\n",
    "        self.dirty = False\n",
    "        self.show()\n",
    "        cv2.setMouseCallback(self.windowname, self.on_mouse)\n",
    "\n",
    "    def show(self):\n",
    "        cv2.imshow(self.windowname, self.dests[0])\n",
    "        cv2.imshow(self.windowname+\": Mask\",self.dests[1])\n",
    "        \n",
    "    def on_mouse(self, event, x, y, flags, param):\n",
    "        pt = (x,y)\n",
    "        if event == cv2.EVENT_LBUTTONDOWN:\n",
    "            self.prev_pt = pt\n",
    "        \n",
    "        elif event == cv2.EVENT_LBUTTONUP:\n",
    "            self.prev_pt = None\n",
    "            \n",
    "        if self.prev_pt and flags & cv2.EVENT_FLAG_LBUTTON:\n",
    "            for dst, color in zip(self.dests, self.colors_func()):\n",
    "                cv2.line(dst, self.prev_pt, pt, color, 2)\n",
    "            self.dirty = True\n",
    "            self.prev_pt = pt\n",
    "            self.show()\n",
    "            \n",
    "\n",
    "def main():\n",
    "    print(\"Keys: \")\n",
    "    print(\"r - reset the inpaint mask\")\n",
    "    print(\"ESC - exit\")\n",
    "\n",
    "    #Read image in color mode\n",
    "    img = cv2.imread(\"data/ColorLadder.png\", cv2.IMREAD_COLOR)\n",
    "\n",
    "    if img is None:\n",
    "        print('Failed to load image file: {}'.format(args[\"image\"]))\n",
    "        return\n",
    "    \n",
    "    img_mask = img.copy()\n",
    "\n",
    "    inpaintMask = np.zeros(img.shape[:2], np.uint8)\n",
    "\n",
    "    sketch = Sketcher('image',[img_mask, inpaintMask], lambda :((255.,0.,0.), 255.))\n",
    "\n",
    "    while True:\n",
    "        ch = cv2.waitKey(0)\n",
    "\n",
    "        if ch == 27:\n",
    "            #saving the marked image\n",
    "            cv2.imwrite(\"data/Color_Ladder_Mark.png\",img_mask)\n",
    "            #saving the binary mask of the marked image\n",
    "            cv2.imwrite(\"data/Color_Ladder_Mask.png\",inpaintMask)\n",
    "            break\n",
    "\n",
    "        if ch == ord('r'):\n",
    "            img_mask[:] = img\n",
    "            inpaintMask[:]=0\n",
    "            sketch.show()\n",
    "\n",
    "if __name__ == '__main__':\n",
    "    main()\n",
    "    cv2.destroyAllWindows()"
   ]
  },
  {
   "cell_type": "markdown",
   "metadata": {},
   "source": [
    "<h2>Different Functions Definations :-"
   ]
  },
  {
   "cell_type": "code",
   "execution_count": 3,
   "metadata": {},
   "outputs": [],
   "source": [
    "def readImage(path):\n",
    "    \"\"\"\n",
    "    reading and zero padding the image\n",
    "    \n",
    "    path  :- path where the image exists.\n",
    "    \"\"\"\n",
    "    #read the image from path\n",
    "    image = cv2.imread(path, cv2.IMREAD_COLOR)\n",
    "    \n",
    "    #normalize the values between 0 to 1\n",
    "    image = image/255.0\n",
    "    \n",
    "    #find image's width, height and channel\n",
    "    width = image.shape[0]\n",
    "    height = image.shape[1]\n",
    "    channel = image.shape[2]\n",
    "    \n",
    "    #padding the image so that every every corner can be equally learned\n",
    "    padded_image = np.zeros((width+2, height+2, channel))\n",
    "    padded_image[1:-1, 1:-1, :] = image\n",
    "    return padded_image"
   ]
  },
  {
   "cell_type": "code",
   "execution_count": 4,
   "metadata": {},
   "outputs": [],
   "source": [
    "def splitImage(image, n, mask):\n",
    "    \"\"\"\n",
    "    this function divides the image into small pieces\n",
    "    \n",
    "    image :- image with mark (Scratched Image).\n",
    "    n     :- size of small piece of an image (size in which we want to divide an image)\n",
    "    mask  :- binary mask of the image.\n",
    "    \"\"\"\n",
    "    #list which stores all the fined portion of an image\n",
    "    fined_parts = []\n",
    "    \n",
    "    #find width and height of image having mark.\n",
    "    width = image.shape[0]\n",
    "    height = image.shape[1]\n",
    "    \n",
    "    #hover over the binary mask to find all the fined parts (of size n*n) of image\n",
    "    for x in range(0,width-(n-1),1):\n",
    "        for y in range(0,height-(n-1),1):\n",
    "            #find a (n*n) portion of the mask to check whether it is having any white pixel\n",
    "            v = mask[x:x+n,y:y+n]\n",
    "            #if all the pixel values are zeros then the respective part of the image is a fined part (without mark)\n",
    "            if np.count_nonzero(v) == 0:\n",
    "                fined_parts.append(image[x:x+n, y:y+n, :])\n",
    "    \n",
    "    fined_parts = np.array(fined_parts,dtype=np.float64)\n",
    "    return fined_parts"
   ]
  },
  {
   "cell_type": "code",
   "execution_count": 5,
   "metadata": {},
   "outputs": [],
   "source": [
    "def addNoise(fined_parts):\n",
    "    \"\"\"\n",
    "    add few noise to the fined part of the image so that it won't disregard the noise.\n",
    "    \n",
    "    fined_parts :- numpy array of all the fined small portion of the image.\n",
    "    \"\"\"\n",
    "    #find the height, width & channel of the small fined portion of the image.\n",
    "    height,width,channel = fined_parts.shape[1:]\n",
    "\n",
    "    #iterate over the array of fined_part and add some noise ( Convert some of the pixels to zeros )\n",
    "    for i in range(fined_parts.shape[0]):\n",
    "        circle_img = np.ones((height,width),np.uint8)\n",
    "        x = np.random.randint(0, height)\n",
    "        y = np.random.randint(0, width)\n",
    "        cv2.circle(circle_img,(x,y),1,0,thickness = -1)\n",
    "        masked_data = cv2.bitwise_and(fined_parts[i], fined_parts[i], mask=circle_img)\n",
    "\n",
    "        fined_parts[i] = masked_data\n",
    "    \n",
    "    return fined_parts"
   ]
  },
  {
   "cell_type": "code",
   "execution_count": 6,
   "metadata": {},
   "outputs": [],
   "source": [
    "def prepareModel(n):\n",
    "    \"\"\"\n",
    "    prepare the structure of the model ( deep convolutional autoencoder )\n",
    "    \n",
    "    we are gradually increasing the number of channels and size of kernels, so that our model can understand \n",
    "    what features to learn and what to ignore.\n",
    "    \n",
    "    n :- input size of the model\n",
    "    \"\"\"\n",
    "    #define input layer of the model\n",
    "    inputs = tf.keras.layers.Input(shape=(n,n,3))\n",
    "    \n",
    "    #Encoder\n",
    "    x = tf.keras.layers.Conv2D(32, (3, 3), activation='relu', padding='same')(inputs)\n",
    "    x = tf.keras.layers.BatchNormalization()(x)\n",
    "    x = tf.keras.layers.MaxPooling2D((2, 2), padding='same')(x)\n",
    "    x = tf.keras.layers.Dropout(0.25)(x)\n",
    "    \n",
    "    x = tf.keras.layers.Conv2D(64, (4, 4), activation='relu', padding='same')(x)\n",
    "    x = tf.keras.layers.BatchNormalization()(x)\n",
    "    x = tf.keras.layers.MaxPooling2D((2, 2), padding='same')(x)\n",
    "    x = tf.keras.layers.Dropout(0.25)(x)\n",
    "    \n",
    "    #bottleneck\n",
    "    x = tf.keras.layers.Conv2D(128, (5, 5), activation='relu', padding='same')(x)\n",
    "    \n",
    "    #Decoder\n",
    "    x = tf.keras.layers.UpSampling2D((2, 2))(x)\n",
    "    x = tf.keras.layers.Dropout(0.25)(x)\n",
    "    x = tf.keras.layers.Conv2D(64, (4, 4), activation='relu', padding='same')(x)\n",
    "    x = tf.keras.layers.BatchNormalization()(x)\n",
    "    \n",
    "    x = tf.keras.layers.UpSampling2D((2, 2))(x)\n",
    "    x = tf.keras.layers.Dropout(0.25)(x)\n",
    "    x = tf.keras.layers.Conv2D(32, (3, 3), activation='relu', padding='same')(x)\n",
    "    x = tf.keras.layers.BatchNormalization()(x)\n",
    "   \n",
    "    #we are using sigmoid activation in the output layer, b'cus we want the values to lies between 0 to 1\n",
    "    outputs = tf.keras.layers.Conv2D(3, (1, 1), activation='sigmoid', padding='same')(x)\n",
    "    \n",
    "    #define the input and output layers of the model\n",
    "    img_inpaint = tf.keras.models.Model(inputs, outputs)\n",
    "    \n",
    "    #compile the model to define the optimizer (ADAM), loss function (MEAN SQUARE ERROR) and metrics (ACCURACY)\n",
    "    img_inpaint.compile(optimizer='adam', loss='mse', metrics=['accuracy'])\n",
    "    \n",
    "    return img_inpaint"
   ]
  },
  {
   "cell_type": "markdown",
   "metadata": {},
   "source": [
    "![title](imgs/MODEL.png)"
   ]
  },
  {
   "cell_type": "markdown",
   "metadata": {},
   "source": [
    "<h2>Main Section (Read Image and find fined_parts and run model) :-"
   ]
  },
  {
   "cell_type": "code",
   "execution_count": 7,
   "metadata": {},
   "outputs": [],
   "source": [
    "#read the image with scratches\n",
    "path = \"data/Color_Ladder_Mark.png\"\n",
    "img = readImage(path)"
   ]
  },
  {
   "cell_type": "code",
   "execution_count": 8,
   "metadata": {},
   "outputs": [
    {
     "data": {
      "text/plain": [
       "<matplotlib.image.AxesImage at 0x2318f807e10>"
      ]
     },
     "execution_count": 8,
     "metadata": {},
     "output_type": "execute_result"
    },
    {
     "data": {
      "image/png": "[encoded data removed]",
      "text/plain": [
       "<Figure size 432x288 with 1 Axes>"
      ]
     },
     "metadata": {},
     "output_type": "display_data"
    }
   ],
   "source": [
    "#plot the image using imshow() of matplotlib\n",
    "plt.imshow(img)"
   ]
  },
  {
   "cell_type": "code",
   "execution_count": 9,
   "metadata": {},
   "outputs": [],
   "source": [
    "#read the binary mask\n",
    "mask_path = \"data/Color_Ladder_Mask.png\"\n",
    "mask_1 = cv2.imread(mask_path, cv2.IMREAD_GRAYSCALE)\n",
    "\n",
    "#add padding to the binary mask, so that the shape of binary mask will be equal to shape of image after padding.\n",
    "width = mask_1.shape[0]\n",
    "height = mask_1.shape[1]\n",
    "mask = np.zeros((width+2, height+2))\n",
    "mask[1:-1, 1:-1] = mask_1[:,:]"
   ]
  },
  {
   "cell_type": "code",
   "execution_count": 10,
   "metadata": {},
   "outputs": [
    {
     "data": {
      "image/png": "[encoded data removed]",
      "text/plain": [
       "<Figure size 432x288 with 1 Axes>"
      ]
     },
     "metadata": {},
     "output_type": "display_data"
    }
   ],
   "source": [
    "#plot the binary mask\n",
    "plt.imshow(mask)\n",
    "plt.gray()"
   ]
  },
  {
   "cell_type": "code",
   "execution_count": 11,
   "metadata": {},
   "outputs": [],
   "source": [
    "#spliting image into 4*4 and finding the fined portions\n",
    "n = 4\n",
    "fined_parts = splitImage(img, n, mask)"
   ]
  },
  {
   "cell_type": "code",
   "execution_count": 12,
   "metadata": {},
   "outputs": [
    {
     "data": {
      "text/plain": [
       "(135644, 4, 4, 3)"
      ]
     },
     "execution_count": 12,
     "metadata": {},
     "output_type": "execute_result"
    }
   ],
   "source": [
    "#show the number fined parts\n",
    "fined_parts.shape"
   ]
  },
  {
   "cell_type": "code",
   "execution_count": 13,
   "metadata": {},
   "outputs": [],
   "source": [
    "#adding noise to the fined portions\n",
    "x_train_noisy = fined_parts.copy()\n",
    "x_train_noisy = addNoise(x_train_noisy)"
   ]
  },
  {
   "cell_type": "code",
   "execution_count": 14,
   "metadata": {},
   "outputs": [
    {
     "data": {
      "text/plain": [
       "(135644, 4, 4, 3)"
      ]
     },
     "execution_count": 14,
     "metadata": {},
     "output_type": "execute_result"
    }
   ],
   "source": [
    "#show the number of parts after adding noise\n",
    "x_train_noisy.shape"
   ]
  },
  {
   "cell_type": "code",
   "execution_count": 15,
   "metadata": {},
   "outputs": [
    {
     "data": {
      "text/plain": [
       "<matplotlib.image.AxesImage at 0x231911e1940>"
      ]
     },
     "execution_count": 15,
     "metadata": {},
     "output_type": "execute_result"
    },
    {
     "data": {
      "image/png": "[encoded data removed]",
      "text/plain": [
       "<Figure size 432x288 with 1 Axes>"
      ]
     },
     "metadata": {},
     "output_type": "display_data"
    }
   ],
   "source": [
    "#plotting a part after adding noise\n",
    "plt.imshow(x_train_noisy[10].reshape(4, 4, 3))"
   ]
  },
  {
   "cell_type": "code",
   "execution_count": 16,
   "metadata": {},
   "outputs": [],
   "source": [
    "#clip the values of pixels of small pieces of images between 0 to 1 after adding noise\n",
    "x_train_noisy = np.clip(x_train_noisy, 0., 1.)"
   ]
  },
  {
   "cell_type": "code",
   "execution_count": 17,
   "metadata": {},
   "outputs": [
    {
     "data": {
      "text/plain": [
       "(135644, 4, 4, 3)"
      ]
     },
     "execution_count": 17,
     "metadata": {},
     "output_type": "execute_result"
    }
   ],
   "source": [
    "x_train_noisy.shape"
   ]
  },
  {
   "cell_type": "code",
   "execution_count": 18,
   "metadata": {},
   "outputs": [
    {
     "data": {
      "text/plain": [
       "(135644, 4, 4, 3)"
      ]
     },
     "execution_count": 18,
     "metadata": {},
     "output_type": "execute_result"
    }
   ],
   "source": [
    "fined_parts.shape"
   ]
  },
  {
   "cell_type": "code",
   "execution_count": 19,
   "metadata": {},
   "outputs": [],
   "source": [
    "#prepare the structure of the model and compile the model\n",
    "img_inpaint = prepareModel(4)"
   ]
  },
  {
   "cell_type": "code",
   "execution_count": 23,
   "metadata": {
    "collapsed": true
   },
   "outputs": [
    {
     "name": "stdout",
     "output_type": "stream",
     "text": [
      "Train on 144465 samples\n",
      "Epoch 1/10\n",
      "144465/144465 [==============================] - 94s 647us/sample - loss: 0.0052 - acc: 0.9465\n",
      "Epoch 2/10\n",
      "144465/144465 [==============================] - 92s 634us/sample - loss: 0.0024 - acc: 0.9664\n",
      "Epoch 3/10\n",
      "144465/144465 [==============================] - 99s 682us/sample - loss: 0.0018 - acc: 0.9693\n",
      "Epoch 4/10\n",
      "144465/144465 [==============================] - 93s 641us/sample - loss: 0.0015 - acc: 0.9759\n",
      "Epoch 5/10\n",
      "144465/144465 [==============================] - 97s 674us/sample - loss: 0.0013 - acc: 0.9804\n",
      "Epoch 6/10\n",
      "144465/144465 [==============================] - 96s 665us/sample - loss: 9.7449e-04 - acc: 0.9829\n",
      "Epoch 7/10\n",
      "144465/144465 [==============================] - 96s 666us/sample - loss: 7.6504e-04 - acc: 0.9842\n",
      "Epoch 8/10\n",
      "144465/144465 [==============================] - 95s 656us/sample - loss: 6.5506e-04 - acc: 0.9861\n",
      "Epoch 9/10\n",
      "144465/144465 [==============================] - 100s 694us/sample - loss: 5.6078e-04 - acc: 0.9871\n",
      "Epoch 10/10\n",
      "144465/144465 [==============================] - 96s 667us/sample - loss: 5.1270e-04 - acc: 0.9878\n"
     ]
    },
    {
     "data": {
      "text/plain": [
       "<tensorflow.python.keras.callbacks.History at 0x179a21310b8>"
      ]
     },
     "execution_count": 23,
     "metadata": {},
     "output_type": "execute_result"
    }
   ],
   "source": [
    "#fit or train the model\n",
    "#you may increase or decrease the number of epochs after seeing result.\n",
    "img_inpaint.fit(x_train_noisy, fined_parts, epochs=15, batch_size=100, shuffle=True )"
   ]
  },
  {
   "cell_type": "code",
   "execution_count": 22,
   "metadata": {},
   "outputs": [],
   "source": [
    "#testing the model ( give all the damaged small portion of image as input and output will be pasted in original image )\n",
    "img_copy = img.copy()\n",
    "mask_copy = mask.copy()\n",
    "\n",
    "width = mask_copy.shape[0]\n",
    "height = mask_copy.shape[1]\n",
    "\n",
    "for x in range(0,width-3,1):\n",
    "    for y in range(0,height-3,1):\n",
    "        if np.count_nonzero(mask_copy[x:x+4, y:y+4]) >= 1:\n",
    "            op = img_inpaint.predict(img_copy[x:x+4, y:y+4,:].reshape(1,4,4,3))\n",
    "            img_copy[x:x+4, y:y+4,:] = op.reshape(4, 4, 3)\n",
    "            mask_copy[x:x+4, y:y+4] = 0"
   ]
  },
  {
   "cell_type": "code",
   "execution_count": 23,
   "metadata": {},
   "outputs": [
    {
     "data": {
      "text/plain": [
       "<matplotlib.image.AxesImage at 0x16481c72f98>"
      ]
     },
     "execution_count": 23,
     "metadata": {},
     "output_type": "execute_result"
    },
    {
     "data": {
      "image/png": "[encoded data removed]",
      "text/plain": [
       "<Figure size 432x288 with 1 Axes>"
      ]
     },
     "metadata": {},
     "output_type": "display_data"
    }
   ],
   "source": [
    "#plot the image after inpainting\n",
    "plt.imshow(img_copy)"
   ]
  },
  {
   "cell_type": "code",
   "execution_count": 24,
   "metadata": {},
   "outputs": [],
   "source": [
    "#showing the inpainted image in a different window using imshow() of opencv\n",
    "cv2.imshow(\"inpainted_image\", img_copy)\n",
    "cv2.waitKey(0)\n",
    "cv2.destroyAllWindows()"
   ]
  },
  {
   "cell_type": "code",
   "execution_count": 25,
   "metadata": {},
   "outputs": [
    {
     "data": {
      "text/plain": [
       "True"
      ]
     },
     "execution_count": 25,
     "metadata": {},
     "output_type": "execute_result"
    }
   ],
   "source": [
    "#save the image after inpainting\n",
    "img_copy *= 255.0\n",
    "cv2.imwrite(\"data/Color_Ladder_OP.png\",img_copy)"
   ]
  },
  {
   "cell_type": "code",
   "execution_count": 31,
   "metadata": {},
   "outputs": [],
   "source": [
    "#save the model ( save the weights of model )\n",
    "img_inpaint.save_weights(\"weights/img_inpt_color_ladder_model.h5\")"
   ]
  },
  {
   "cell_type": "code",
   "execution_count": null,
   "metadata": {},
   "outputs": [],
   "source": []
  },
  {
   "cell_type": "code",
   "execution_count": 20,
   "metadata": {},
   "outputs": [],
   "source": [
    "#load the model if required\n",
    "img_inpaint.load_weights(\"weights/img_inpt_color_ladder_model.h5\")"
   ]
  },
  {
   "cell_type": "code",
   "execution_count": null,
   "metadata": {},
   "outputs": [],
   "source": []
  },
  {
   "cell_type": "code",
   "execution_count": null,
   "metadata": {},
   "outputs": [],
   "source": []
  }
 ],
 "metadata": {
  "kernelspec": {
   "display_name": "Python 3",
   "language": "python",
   "name": "python3"
  },
  "language_info": {
   "codemirror_mode": {
    "name": "ipython",
    "version": 3
   },
   "file_extension": ".py",
   "mimetype": "text/x-python",
   "name": "python",
   "nbconvert_exporter": "python",
   "pygments_lexer": "ipython3",
   "version": "3.6.5"
  }
 },
 "nbformat": 4,
 "nbformat_minor": 2
}
